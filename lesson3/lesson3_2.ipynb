{
 "cells": [
  {
   "cell_type": "code",
   "execution_count": null,
   "metadata": {},
   "outputs": [],
   "source": [
    "import math\n",
    "radius = float(input(\"請輸入半徑:\"))\n",
    "area = math.pi * radius ** 2\n",
    "print(f\"半徑:{radius},圓面積是:{round(area,ndigits=2)}\")\n",
    "半徑:10.8,圓面積是:366.44"
   ]
  },
  {
   "cell_type": "code",
   "execution_count": null,
   "metadata": {},
   "outputs": [],
   "source": [
    "import math\n",
    "side = 30\n",
    "another_side = 60\n",
    "\n",
    "radian = math.asin(side / another_side)\n",
    "degree = math.degrees(radian)\n",
    "print(f\"對邊:{side},斜邊:{another_side},角度是:{round(degree,ndigits=2)}\")"
   ]
  }
 ],
 "metadata": {
  "language_info": {
   "name": "python"
  }
 },
 "nbformat": 4,
 "nbformat_minor": 2
}
